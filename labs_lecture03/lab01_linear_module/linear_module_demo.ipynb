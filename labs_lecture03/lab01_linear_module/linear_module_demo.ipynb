{
 "cells": [
  {
   "cell_type": "markdown",
   "metadata": {},
   "source": [
    "# Lab 01 : Linear module -- demo"
   ]
  },
  {
   "cell_type": "code",
   "execution_count": 1,
   "metadata": {},
   "outputs": [],
   "source": [
    "import torch\n",
    "import torch.nn as nn"
   ]
  },
  {
   "cell_type": "markdown",
   "metadata": {},
   "source": [
    "### Make a _Linear Module_ that takes input of size 5 and return output of size 3"
   ]
  },
  {
   "cell_type": "code",
   "execution_count": 2,
   "metadata": {},
   "outputs": [
    {
     "name": "stdout",
     "output_type": "stream",
     "text": [
      "Linear(in_features=5, out_features=3, bias=True)\n"
     ]
    }
   ],
   "source": [
    "mod = nn.Linear(5,3)\n",
    "print(mod)"
   ]
  },
  {
   "cell_type": "markdown",
   "metadata": {},
   "source": [
    "### Let's make a random tensor of size 5:"
   ]
  },
  {
   "cell_type": "code",
   "execution_count": 3,
   "metadata": {},
   "outputs": [
    {
     "name": "stdout",
     "output_type": "stream",
     "text": [
      "tensor([0.6873, 0.3363, 0.9933, 0.6856, 0.5915])\n",
      "torch.Size([5])\n"
     ]
    }
   ],
   "source": [
    "x=torch.rand(5)\n",
    "print(x)\n",
    "print(x.size())"
   ]
  },
  {
   "cell_type": "markdown",
   "metadata": {},
   "source": [
    "### Feed it to the module:"
   ]
  },
  {
   "cell_type": "code",
   "execution_count": 4,
   "metadata": {},
   "outputs": [
    {
     "name": "stdout",
     "output_type": "stream",
     "text": [
      "tensor([ 0.3188, -0.3233, -0.8608], grad_fn=<AddBackward0>)\n"
     ]
    }
   ],
   "source": [
    "y=mod(x)\n",
    "print(y)"
   ]
  },
  {
   "cell_type": "markdown",
   "metadata": {},
   "source": [
    "### The output y is computed according to the formula:\n",
    "$$\n",
    "\\begin{bmatrix}\n",
    "y_1\\\\ y_2 \\\\y_3 \n",
    "\\end{bmatrix} =\n",
    "\\begin{bmatrix}\n",
    "w_{11} & w_{12} & w_{13}& w_{14}& w_{15} \\\\\n",
    "w_{21} & w_{22} & w_{23}& w_{24}& w_{25} \\\\\n",
    "w_{31} & w_{32} & w_{33}& w_{34}& w_{35} \\\\\n",
    "\\end{bmatrix}\n",
    "\\begin{bmatrix}\n",
    "x_1\\\\ x_2 \\\\x_3 \\\\ x_4 \\\\x_5\n",
    "\\end{bmatrix}\n",
    "+\n",
    "\\begin{bmatrix}\n",
    "b_1\\\\ b_2 \\\\b_3 \n",
    "\\end{bmatrix}\n",
    "$$\n",
    "### were the $w_{ij}$'s are the weight parameters and the $b_i$'s are the bias parameters. These internal parameters can be access as follow:"
   ]
  },
  {
   "cell_type": "code",
   "execution_count": 5,
   "metadata": {},
   "outputs": [
    {
     "name": "stdout",
     "output_type": "stream",
     "text": [
      "Parameter containing:\n",
      "tensor([[ 0.0447,  0.2874,  0.1906,  0.0898,  0.0092],\n",
      "        [-0.0742, -0.1195,  0.2347, -0.1140, -0.0454],\n",
      "        [-0.0169, -0.0507, -0.2991,  0.0503, -0.3686]], requires_grad=True)\n",
      "torch.Size([3, 5])\n"
     ]
    }
   ],
   "source": [
    "print(mod.weight)\n",
    "print(mod.weight.size())"
   ]
  },
  {
   "cell_type": "code",
   "execution_count": 6,
   "metadata": {},
   "outputs": [
    {
     "name": "stdout",
     "output_type": "stream",
     "text": [
      "Parameter containing:\n",
      "tensor([-0.0649, -0.3602, -0.3514], requires_grad=True)\n",
      "torch.Size([3])\n"
     ]
    }
   ],
   "source": [
    "print(mod.bias)\n",
    "print(mod.bias.size())"
   ]
  },
  {
   "cell_type": "markdown",
   "metadata": {},
   "source": [
    "### If we want we can change the internal parameters of the module:"
   ]
  },
  {
   "cell_type": "code",
   "execution_count": 7,
   "metadata": {},
   "outputs": [
    {
     "name": "stdout",
     "output_type": "stream",
     "text": [
      "Parameter containing:\n",
      "tensor([[ 0.0000,  1.0000,  2.0000,  0.0898,  0.0092],\n",
      "        [-0.0742, -0.1195,  0.2347, -0.1140, -0.0454],\n",
      "        [-0.0169, -0.0507, -0.2991,  0.0503, -0.3686]], requires_grad=True)\n"
     ]
    }
   ],
   "source": [
    "with torch.no_grad():\n",
    "    mod.weight[0,0]=0\n",
    "    mod.weight[0,1]=1\n",
    "    mod.weight[0,2]=2\n",
    "    print(mod.weight)"
   ]
  },
  {
   "cell_type": "markdown",
   "metadata": {},
   "source": [
    "### We can also make a Linear module without bias:"
   ]
  },
  {
   "cell_type": "code",
   "execution_count": 8,
   "metadata": {},
   "outputs": [
    {
     "name": "stdout",
     "output_type": "stream",
     "text": [
      "Linear(in_features=5, out_features=3, bias=False)\n"
     ]
    }
   ],
   "source": [
    "mod2 = nn.Linear(5,3,bias=False)\n",
    "print(mod2)"
   ]
  },
  {
   "cell_type": "code",
   "execution_count": 9,
   "metadata": {},
   "outputs": [
    {
     "name": "stdout",
     "output_type": "stream",
     "text": [
      "Parameter containing:\n",
      "tensor([[-0.4082, -0.2345,  0.3771, -0.3740, -0.4435],\n",
      "        [-0.1758,  0.0394,  0.4464,  0.0982, -0.1037],\n",
      "        [-0.2344,  0.0434, -0.0137, -0.2479, -0.3998]], requires_grad=True)\n"
     ]
    }
   ],
   "source": [
    "print(mod2.weight)"
   ]
  },
  {
   "cell_type": "code",
   "execution_count": 10,
   "metadata": {},
   "outputs": [
    {
     "name": "stdout",
     "output_type": "stream",
     "text": [
      "None\n"
     ]
    }
   ],
   "source": [
    "print(mod2.bias)"
   ]
  },
  {
   "cell_type": "code",
   "execution_count": null,
   "metadata": {},
   "outputs": [],
   "source": []
  }
 ],
 "metadata": {
  "kernelspec": {
   "display_name": "Python 3 (ipykernel)",
   "language": "python",
   "name": "python3"
  },
  "language_info": {
   "codemirror_mode": {
    "name": "ipython",
    "version": 3
   },
   "file_extension": ".py",
   "mimetype": "text/x-python",
   "name": "python",
   "nbconvert_exporter": "python",
   "pygments_lexer": "ipython3",
   "version": "3.9.19"
  }
 },
 "nbformat": 4,
 "nbformat_minor": 4
}
